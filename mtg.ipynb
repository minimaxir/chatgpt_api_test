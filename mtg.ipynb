{
 "cells": [
  {
   "cell_type": "code",
   "execution_count": 1,
   "metadata": {},
   "outputs": [],
   "source": [
    "import openai\n",
    "import os\n",
    "from rich.console import Console\n",
    "from dotenv import load_dotenv\n",
    "\n",
    "load_dotenv()\n",
    "\n",
    "openai.api_key = os.getenv(\"OPENAI_API_KEY\")"
   ]
  },
  {
   "cell_type": "code",
   "execution_count": 7,
   "metadata": {},
   "outputs": [
    {
     "data": {
      "text/html": [
       "<pre style=\"white-space:pre;overflow-x:auto;line-height:normal;font-family:Menlo,'DejaVu Sans Mono',consolas,'Courier New',monospace\">\n",
       "\n",
       "1. {\"name\":\"Elspeth, the Radiant \n",
       "Champion\",\"manaCost\":\"{2}{W}{W}\",\"type\":\"Legendary \n",
       "Planeswalker — Elspeth\",\"text\":\"+1: Create a 1/1 white \n",
       "Soldier creature token.\\n+1: You gain 1 life for each \n",
       "creature you control.\\n−8: You get an emblem with “At the \n",
       "beginning of your upkeep, create X 1/1 white Soldier \n",
       "creature tokens, where X is the number of creatures you \n",
       "control.”\",\"loyalty\":\"4\",\"rarity\":\"mythic\"}\n",
       "\n",
       "2. {\"name\":\"Jace, Mind \n",
       "Weaver\",\"manaCost\":\"{1}{U}{U}\",\"type\":\"Legendary \n",
       "Planeswalker — Jace\",\"text\":\"+1: Scry 2.\\n-2: Draw a card, \n",
       "then discard a card.\\n-8: You get an emblem with “Whenever \n",
       "an opponent casts their second spell each turn, counter that\n",
       "spell.”\",\"loyalty\":\"3\",\"rarity\":\"rare\"}\n",
       "\n",
       "3. {\"name\":\"Chandra, the Inferno \n",
       "Mage\",\"manaCost\":\"{2}{R}{R}\",\"type\":\"Legendary Planeswalker \n",
       "— Chandra\",\"text\":\"+1: Chandra, the Inferno Mage deals 2 \n",
       "damage to any target.\\n0: Exile the top card of your \n",
       "library. You may cast that card this turn.\\n-5: You get an \n",
       "emblem with “Whenever you cast a spell, this emblem deals 5 \n",
       "damage to any target.”\",\"loyalty\":\"3\",\"rarity\":\"rare\"}\n",
       "\n",
       "4. {\"name\":\"Garruk, \n",
       "Wildspeaker\",\"manaCost\":\"{2}{G}{G}\",\"type\":\"Legendary \n",
       "Planeswalker — Garruk\",\"text\":\"+1: Untap two target \n",
       "lands.\\n-1: Create a 3/3 green Beast creature token.\\n-4: \n",
       "You get an emblem with “At the beginning of each of your end\n",
       "steps, create a 3/3 green Beast creature \n",
       "token.”\",\"loyalty\":\"4\",\"rarity\":\"mythic\"}\n",
       "\n",
       "5. {\"name\":\"Liliana, the \n",
       "Necromancer\",\"manaCost\":\"{2}{B}{B}\",\"type\":\"Legendary \n",
       "Planeswalker — Liliana\",\"text\":\"+1: Target creature gets \n",
       "-2/-1 until your next turn.\\n-3: Target player discards a \n",
       "card.\\n-8: You get an emblem with “Whenever a creature dies,\n",
       "return it to the battlefield under your control at the \n",
       "beginning of the next end \n",
       "step.”\",\"loyalty\":\"3\",\"rarity\":\"rare\"}\n",
       "</pre>\n"
      ],
      "text/plain": [
       "\n",
       "\n",
       "1. {\"name\":\"Elspeth, the Radiant \n",
       "Champion\",\"manaCost\":\"{2}{W}{W}\",\"type\":\"Legendary \n",
       "Planeswalker — Elspeth\",\"text\":\"+1: Create a 1/1 white \n",
       "Soldier creature token.\\n+1: You gain 1 life for each \n",
       "creature you control.\\n−8: You get an emblem with “At the \n",
       "beginning of your upkeep, create X 1/1 white Soldier \n",
       "creature tokens, where X is the number of creatures you \n",
       "control.”\",\"loyalty\":\"4\",\"rarity\":\"mythic\"}\n",
       "\n",
       "2. {\"name\":\"Jace, Mind \n",
       "Weaver\",\"manaCost\":\"{1}{U}{U}\",\"type\":\"Legendary \n",
       "Planeswalker — Jace\",\"text\":\"+1: Scry 2.\\n-2: Draw a card, \n",
       "then discard a card.\\n-8: You get an emblem with “Whenever \n",
       "an opponent casts their second spell each turn, counter that\n",
       "spell.”\",\"loyalty\":\"3\",\"rarity\":\"rare\"}\n",
       "\n",
       "3. {\"name\":\"Chandra, the Inferno \n",
       "Mage\",\"manaCost\":\"{2}{R}{R}\",\"type\":\"Legendary Planeswalker \n",
       "— Chandra\",\"text\":\"+1: Chandra, the Inferno Mage deals 2 \n",
       "damage to any target.\\n0: Exile the top card of your \n",
       "library. You may cast that card this turn.\\n-5: You get an \n",
       "emblem with “Whenever you cast a spell, this emblem deals 5 \n",
       "damage to any target.”\",\"loyalty\":\"3\",\"rarity\":\"rare\"}\n",
       "\n",
       "4. {\"name\":\"Garruk, \n",
       "Wildspeaker\",\"manaCost\":\"{2}{G}{G}\",\"type\":\"Legendary \n",
       "Planeswalker — Garruk\",\"text\":\"+1: Untap two target \n",
       "lands.\\n-1: Create a 3/3 green Beast creature token.\\n-4: \n",
       "You get an emblem with “At the beginning of each of your end\n",
       "steps, create a 3/3 green Beast creature \n",
       "token.”\",\"loyalty\":\"4\",\"rarity\":\"mythic\"}\n",
       "\n",
       "5. {\"name\":\"Liliana, the \n",
       "Necromancer\",\"manaCost\":\"{2}{B}{B}\",\"type\":\"Legendary \n",
       "Planeswalker — Liliana\",\"text\":\"+1: Target creature gets \n",
       "-2/-1 until your next turn.\\n-3: Target player discards a \n",
       "card.\\n-8: You get an emblem with “Whenever a creature dies,\n",
       "return it to the battlefield under your control at the \n",
       "beginning of the next end \n",
       "step.”\",\"loyalty\":\"3\",\"rarity\":\"rare\"}\n"
      ]
     },
     "metadata": {},
     "output_type": "display_data"
    }
   ],
   "source": [
    "system = \"\"\"You are an assistant who works as a Magic: The Gathering card designer. Create cards that are in the following card schema and JSON format. OUTPUT MUST FOLLOW THIS CARD SCHEMA AND JSON FORMAT AND SHOULD NOT OUTPUT ANY NON-JSON TEXT. The output must also follow the Magic \"color pie\".\n",
    "\n",
    "{\"name\":\"Harbin, Vanguard Aviator\",\"manaCost\":\"{W}{U}\",\"type\":\"Legendary Creature — Human Soldier\",\"text\":\"Flying\\nWhenever you attack with five or more Soldiers, creatures you control get +1/+1 and gain flying until end of turn.\",\"flavorText\":\"“Yotia is my birthright, father. Let me fight for it.”\",\"p/t\":\"3/2\",\"rarity\":\"rare\"}\"\"\"\n",
    "prompt = \"Create five Planeswalker Magic cards.\"\n",
    "\n",
    "console = Console(width=60)\n",
    "\n",
    "r = openai.ChatCompletion.create(\n",
    "    model=\"gpt-3.5-turbo\",\n",
    "    messages=[\n",
    "        {\"role\": \"system\", \"content\": system},\n",
    "        {\"role\": \"user\", \"content\": prompt},\n",
    "    ],\n",
    "    temperature=0.8\n",
    ")\n",
    "console.print(r[\"choices\"][0][\"message\"][\"content\"], highlight=False)\n"
   ]
  },
  {
   "cell_type": "code",
   "execution_count": null,
   "metadata": {},
   "outputs": [],
   "source": []
  }
 ],
 "metadata": {
  "kernelspec": {
   "display_name": "Python 3",
   "language": "python",
   "name": "python3"
  },
  "language_info": {
   "codemirror_mode": {
    "name": "ipython",
    "version": 3
   },
   "file_extension": ".py",
   "mimetype": "text/x-python",
   "name": "python",
   "nbconvert_exporter": "python",
   "pygments_lexer": "ipython3",
   "version": "3.9.12"
  },
  "orig_nbformat": 4
 },
 "nbformat": 4,
 "nbformat_minor": 2
}
