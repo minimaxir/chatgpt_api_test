{
  "cells": [
    {
      "cell_type": "markdown",
      "source": [
        "## Setup"
      ],
      "metadata": {
        "id": "Am3QXYydXpld"
      }
    },
    {
      "cell_type": "code",
      "source": [
        "!pip install -q openai rich ujson"
      ],
      "metadata": {
        "colab": {
          "base_uri": "https://localhost:8080/"
        },
        "id": "1LakiluNQ-nP",
        "outputId": "12c0b8ed-b398-457b-fcdc-5d699d650a2b"
      },
      "execution_count": 1,
      "outputs": [
        {
          "output_type": "stream",
          "name": "stdout",
          "text": [
            "\u001b[2K     \u001b[90m━━━━━━━━━━━━━━━━━━━━━━━━━━━━━━━━━━━━━━━━\u001b[0m \u001b[32m70.1/70.1 KB\u001b[0m \u001b[31m2.3 MB/s\u001b[0m eta \u001b[36m0:00:00\u001b[0m\n",
            "\u001b[2K     \u001b[90m━━━━━━━━━━━━━━━━━━━━━━━━━━━━━━━━━━━━━━\u001b[0m \u001b[32m238.7/238.7 KB\u001b[0m \u001b[31m10.3 MB/s\u001b[0m eta \u001b[36m0:00:00\u001b[0m\n",
            "\u001b[2K     \u001b[90m━━━━━━━━━━━━━━━━━━━━━━━━━━━━━━━━━━━━━━━━\u001b[0m \u001b[32m1.1/1.1 MB\u001b[0m \u001b[31m13.5 MB/s\u001b[0m eta \u001b[36m0:00:00\u001b[0m\n",
            "\u001b[2K     \u001b[90m━━━━━━━━━━━━━━━━━━━━━━━━━━━━━━━━━━━━━━━━\u001b[0m \u001b[32m84.5/84.5 KB\u001b[0m \u001b[31m3.6 MB/s\u001b[0m eta \u001b[36m0:00:00\u001b[0m\n",
            "\u001b[?25h\u001b[31mERROR: pip's dependency resolver does not currently take into account all the packages that are installed. This behaviour is the source of the following dependency conflicts.\n",
            "ipython 7.9.0 requires jedi>=0.10, which is not installed.\u001b[0m\u001b[31m\n",
            "\u001b[0m"
          ]
        }
      ]
    },
    {
      "cell_type": "code",
      "execution_count": 1,
      "metadata": {
        "colab": {
          "base_uri": "https://localhost:8080/"
        },
        "id": "8zH8B2PyQiVV",
        "outputId": "51812e83-9f99-4ce8-d1cb-ae5e3adc403f"
      },
      "outputs": [
        {
          "name": "stdout",
          "output_type": "stream",
          "text": [
            "Enter the OpenAI API Key: ··········\n"
          ]
        }
      ],
      "source": [
        "import openai\n",
        "import os\n",
        "import re\n",
        "from rich.console import Console\n",
        "import re\n",
        "import getpass\n",
        "import json\n",
        "from jinja2 import Template\n",
        "import sys\n",
        "from tqdm.auto import tqdm\n",
        "from google.colab import files\n",
        "import ujson\n",
        "\n",
        "api_key = getpass.getpass(\"Enter the OpenAI API Key: \")\n",
        "assert api_key.startswith(\"sk-\"), 'OpenAI API Keys begin with \"sk-\".'\n",
        "openai.api_key = api_key"
      ]
    },
    {
      "cell_type": "code",
      "source": [
        "card_extract_pattern = r'(\\{\"name\":.*rarity.*\\})'\n",
        "def color_rarity(value, to_notebook=True):\n",
        "    value = value.lower()\n",
        "    # Can only display colors if printing to the notebook\n",
        "    if to_notebook:\n",
        "        if \"mythic\" in value:\n",
        "            value = f\"[bright_magenta]{value}[/bright_magenta]\"\n",
        "        elif \"rare\" in value:\n",
        "            value = f\"[bright_blue]{value}[/bright_blue]\"\n",
        "        elif \"uncommon\" in value:\n",
        "            value = f\"[bright_green]{value}[/bright_green]\"\n",
        "    return value\n",
        "\n",
        "TEMPLATE = Template(\n",
        "    \"\"\"{{ c.name }}{% if c.manaCost %}  {{ c.manaCost }}{% endif %}\n",
        "{{ c.type }}{% if c.text %}\n",
        "{{ c.text }}{% endif %}{% if c.flavorText %}\n",
        "{{ c.flavorText }}{% endif %}{% if c.pt %}\n",
        "{{ c.pt }}{% elif c.loyalty %}\n",
        "Loyalty: {{ c.loyalty }}{% endif %}\n",
        "{{ c.rarity }}\"\"\"\n",
        ")\n",
        "\n",
        "\n",
        "def render_card(card_dict):\n",
        "    return TEMPLATE.render(c=card_dict)"
      ],
      "metadata": {
        "id": "_G0gywC6Sjua"
      },
      "execution_count": 2,
      "outputs": []
    },
    {
      "cell_type": "code",
      "execution_count": 52,
      "metadata": {
        "id": "yMN7UK-jQiVX"
      },
      "outputs": [],
      "source": [
        "system = \"\"\"You are an assistant who works as a Magic: The Gathering card designer. Create cards that are in the following card schema and JSON format. OUTPUT MUST FOLLOW THIS CARD SCHEMA AND JSON FORMAT. Always escape double-quotes when necessary. The output must also follow the Magic \"color pie\".\n",
        "\n",
        "{\"name\":\"Harbin, Vanguard Aviator\",\"manaCost\":\"{W}{U}\",\"type\":\"Legendary Creature — Human Soldier\",\"text\":\"Flying\\nWhenever you attack with five or more Soldiers, creatures you control get +1/+1 and gain flying until end of turn.\",\"flavorText\":\"\\\"Yotia is my birthright, father. Let me fight for it.\\\"\",\"pt\":\"3/2\",\"rarity\":\"rare\"}\n",
        "\n",
        "After outputting a card, respond with \"<|DONE|>\".\"\"\"\n",
        "\n",
        "def generate_magic_cards(prompt):\n",
        "    r = openai.ChatCompletion.create(\n",
        "        model=\"gpt-3.5-turbo\",\n",
        "        messages=[\n",
        "            {\"role\": \"system\", \"content\": system},\n",
        "            {\"role\": \"user\", \"content\": prompt},\n",
        "        ],\n",
        "        stop=\"<|DONE|>\",\n",
        "        max_tokens=1000,  # sanity limit\n",
        "        temperature=0.8,  # increasing temp higher than 0.8 may cause non-JSON output\n",
        "    )\n",
        "    return r[\"choices\"][0][\"message\"][\"content\"]\n"
      ]
    },
    {
      "cell_type": "markdown",
      "source": [
        "## Generate the Card!\n",
        "\n",
        "Some example inputs:\n",
        "\n",
        "- Create a five-color Mythic Rare Artifact Magic card.\n",
        "- Create a Planeswalker Magic card with the subtype \"Bob\".\n",
        "- Create a mechanically unique Land Magic card.\n",
        "- Create a Magic card with \"What's updog?\" flavorText.\n",
        "- Create a Magic card named \"Steve Jobs\" with a mana cost of atleast ten.\n",
        "- Create a multicolor Magic card based on the War of 1812.\n",
        "- Create a common Magic card based on Final Fantasy VII.\n",
        "- Create a mechanically unique Magic card based on a crossover between the War of 1812 and Final Fantasy VII.\n",
        "\n",
        "The cell will also output the raw ChatGPT output for posterity / debugging if output has unexpected issues."
      ],
      "metadata": {
        "id": "Uq4ea4tWXrZ2"
      }
    },
    {
      "cell_type": "code",
      "execution_count": 90,
      "metadata": {
        "colab": {
          "base_uri": "https://localhost:8080/",
          "height": 500
        },
        "cellView": "form",
        "id": "-WCV_nj1QiVY",
        "outputId": "afa691da-eb71-4f39-b608-0598444ca26c"
      },
      "outputs": [
        {
          "output_type": "display_data",
          "data": {
            "text/plain": [
              "\u001b[1mSephiroth, Burning Invader\u001b[0m  {2}{B}{B}{R}{R}\n",
              "Legendary Creature — Human Warrior\n",
              "First strike, haste\n",
              "Whenever Sephiroth, Burning Invader deals combat damage to a\n",
              "player, you may sacrifice another creature. If you do, \n",
              "Sephiroth deals damage equal to the sacrificed creature's \n",
              "power to any target.\n",
              "Whenever an artifact is put into a graveyard from the \n",
              "battlefield, put a +1/+1 counter on Sephiroth.\n",
              "\u001b[3mThe British may have burned the White House, but Sephiroth \u001b[0m\n",
              "\u001b[3mwill burn the world.\u001b[0m\n",
              "4/3\n",
              "\u001b[95mmythic rare\u001b[0m\n"
            ],
            "text/html": [
              "<pre style=\"white-space:pre;overflow-x:auto;line-height:normal;font-family:Menlo,'DejaVu Sans Mono',consolas,'Courier New',monospace\"><span style=\"font-weight: bold\">Sephiroth, Burning Invader</span>  {2}{B}{B}{R}{R}\n",
              "Legendary Creature — Human Warrior\n",
              "First strike, haste\n",
              "Whenever Sephiroth, Burning Invader deals combat damage to a\n",
              "player, you may sacrifice another creature. If you do, \n",
              "Sephiroth deals damage equal to the sacrificed creature's \n",
              "power to any target.\n",
              "Whenever an artifact is put into a graveyard from the \n",
              "battlefield, put a +1/+1 counter on Sephiroth.\n",
              "<span style=\"font-style: italic\">The British may have burned the White House, but Sephiroth </span>\n",
              "<span style=\"font-style: italic\">will burn the world.</span>\n",
              "4/3\n",
              "<span style=\"color: #ff00ff; text-decoration-color: #ff00ff\">mythic rare</span>\n",
              "</pre>\n"
            ]
          },
          "metadata": {}
        },
        {
          "output_type": "display_data",
          "data": {
            "text/plain": [
              "────────────────────────────────────────────────────────────\n"
            ],
            "text/html": [
              "<pre style=\"white-space:pre;overflow-x:auto;line-height:normal;font-family:Menlo,'DejaVu Sans Mono',consolas,'Courier New',monospace\">────────────────────────────────────────────────────────────\n",
              "</pre>\n"
            ]
          },
          "metadata": {}
        },
        {
          "output_type": "display_data",
          "data": {
            "text/plain": [
              "ChatGPT Output:\n",
              "{\"name\":\"Sephiroth, Burning \n",
              "Invader\",\"manaCost\":\"{2}{B}{B}{R}{R}\",\"type\":\"Legendary \n",
              "Creature — Human Warrior\",\"text\":\"First strike, haste\n",
              "Whenever Sephiroth, Burning Invader deals combat damage to a\n",
              "player, you may sacrifice another creature. If you do, \n",
              "Sephiroth deals damage equal to the sacrificed creature's \n",
              "power to any target.\n",
              "Whenever an artifact is put into a graveyard from the \n",
              "battlefield, put a +1/+1 counter on \n",
              "Sephiroth.\",\"flavorText\":\"The British may have burned the \n",
              "White House, but Sephiroth will burn the \n",
              "world.\",\"pt\":\"4/3\",\"rarity\":\"mythic rare\"}\n",
              "\n"
            ],
            "text/html": [
              "<pre style=\"white-space:pre;overflow-x:auto;line-height:normal;font-family:Menlo,'DejaVu Sans Mono',consolas,'Courier New',monospace\">ChatGPT Output:\n",
              "{\"name\":\"Sephiroth, Burning \n",
              "Invader\",\"manaCost\":\"{2}{B}{B}{R}{R}\",\"type\":\"Legendary \n",
              "Creature — Human Warrior\",\"text\":\"First strike, haste\n",
              "Whenever Sephiroth, Burning Invader deals combat damage to a\n",
              "player, you may sacrifice another creature. If you do, \n",
              "Sephiroth deals damage equal to the sacrificed creature's \n",
              "power to any target.\n",
              "Whenever an artifact is put into a graveyard from the \n",
              "battlefield, put a +1/+1 counter on \n",
              "Sephiroth.\",\"flavorText\":\"The British may have burned the \n",
              "White House, but Sephiroth will burn the \n",
              "world.\",\"pt\":\"4/3\",\"rarity\":\"mythic rare\"}\n",
              "\n",
              "</pre>\n"
            ]
          },
          "metadata": {}
        }
      ],
      "source": [
        "from ujson import JSONDecodeError\n",
        "num_repeat_to_file = 10\n",
        "output_width = 60\n",
        "success = True\n",
        "\n",
        "prompt = \"Create a mechanically unique Magic card based on a crossover between the War of 1812 and Final Fantasy VII.\" #@param {type:\"string\"}\n",
        "to_file = False  # not quite working yet\n",
        "\n",
        "outputs = generate_magic_cards(prompt)\n",
        "\n",
        "console = Console(width=60)\n",
        "if to_file:\n",
        "    outputs = []\n",
        "    for _ in tqdm(range(num_repeat_to_file)):\n",
        "        temp_outputs = generate_magic_cards(prompt)\n",
        "        for output in temp_outputs:\n",
        "            outputs.append(output)\n",
        "    outputs = \"\\n\\n\".join(outputs)\n",
        "else:\n",
        "    outputs = generate_magic_cards(prompt)\n",
        "\n",
        "cards = re.findall(card_extract_pattern, outputs, re.S)\n",
        "if len(cards) == 0:\n",
        "    console.print(f\"[bright_red]<No cards generated! 😭>\\nModel output: {outputs}[/bright_red]\", highlight=False)\n",
        "    success = False\n",
        "\n",
        "processed_cards = []\n",
        "\n",
        "for card in cards:\n",
        "    try:\n",
        "        card = ujson.loads(card)\n",
        "        card[\"name\"] = f\"[bold]{card['name']}[/bold]\"\n",
        "        if \"flavorText\" in card:\n",
        "            card[\"flavorText\"] = f\"[italic]{card['flavorText']}[/italic]\"\n",
        "        card[\"rarity\"] = color_rarity(card[\"rarity\"])\n",
        "        if \"power\" in card and \"toughness\" in card:\n",
        "            card[\"pt\"] = f'{card[\"power\"]}/{card[\"toughness\"]}'\n",
        "        processed_cards.append(render_card(card))\n",
        "    except JSONDecodeError as e:\n",
        "        console.print(f\"[bright_red]<JSON Parsing Failed! 😭>\\nModel output: {outputs}[/bright_red]\", highlight=False)\n",
        "        success = False\n",
        "        continue\n",
        "\n",
        "if to_file:\n",
        "    file_path = \"cards.txt\"\n",
        "    with open(file_path, \"w\", encoding=\"utf-8\") as f:\n",
        "        f.write((\"\\n\" + \"─\" * output_width + \"\\n\").join(processed_cards))\n",
        "    if \"google.colab\" in sys.modules:\n",
        "        files.download(file_path)\n",
        "elif success:\n",
        "    console = Console(width=output_width)\n",
        "    console.print((\"\\n\" + \"─\" * output_width + \"\\n\").join(processed_cards), highlight=False)\n",
        "    console.print(\"─\" * output_width, highlight=False)\n",
        "    console.print(f\"ChatGPT Output:\\n{outputs}\", highlight=False)"
      ]
    },
    {
      "cell_type": "code",
      "source": [],
      "metadata": {
        "id": "qSvRIYgGxY9Z"
      },
      "execution_count": null,
      "outputs": []
    }
  ],
  "metadata": {
    "kernelspec": {
      "display_name": "Python 3",
      "language": "python",
      "name": "python3"
    },
    "language_info": {
      "codemirror_mode": {
        "name": "ipython",
        "version": 3
      },
      "file_extension": ".py",
      "mimetype": "text/x-python",
      "name": "python",
      "nbconvert_exporter": "python",
      "pygments_lexer": "ipython3",
      "version": "3.9.12"
    },
    "orig_nbformat": 4,
    "colab": {
      "provenance": []
    }
  },
  "nbformat": 4,
  "nbformat_minor": 0
}