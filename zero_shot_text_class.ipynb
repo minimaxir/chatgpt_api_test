{
  "cells": [
    {
      "cell_type": "markdown",
      "metadata": {
        "id": "ERiV1vjfXHB8"
      },
      "source": [
        "# ChatGPT API Zero Shot Sentiment Analysis on User-Defined Emotions\n",
        "\n",
        "by Max Woolf ([@minimaxir](https://twitter.com/minimaxir))\n",
        "\n",
        "This Colab Notebook easily demonstrates how to build zero shot sentiment analysis using the ChatGPT API! The core system prompt is hackable if you want to extend this to other classification use cases.\n",
        "\n",
        "This ChatGPT API sentiment analyzer requires an OpenAI account with a payment method attached to it/a free trial, and an [OpenAI API Key](https://platform.openai.com/account/api-keys). Running the setup cells by **mousing over the cells and pressing the Play button** will prompt you to input a key from that link and press Enter; it will not be saved to the Notebook.\n",
        "\n",
        "Each request is roughly 90 ChatGPT tokens for small input texts, costing $0.18 for 1,000 requests."
      ]
    },
    {
      "cell_type": "markdown",
      "metadata": {
        "id": "g4ruPch_RLMa"
      },
      "source": [
        "## Setup"
      ]
    },
    {
      "cell_type": "code",
      "execution_count": 1,
      "metadata": {
        "colab": {
          "base_uri": "https://localhost:8080/"
        },
        "id": "GgUK7wprQCU1",
        "outputId": "dd14587a-b07a-43ce-f63c-fc26409275d9"
      },
      "outputs": [
        {
          "name": "stdout",
          "output_type": "stream",
          "text": [
            "\u001b[2K     \u001b[90m━━━━━━━━━━━━━━━━━━━━━━━━━━━━━━━━━━━━━━━━\u001b[0m \u001b[32m70.1/70.1 KB\u001b[0m \u001b[31m2.5 MB/s\u001b[0m eta \u001b[36m0:00:00\u001b[0m\n",
            "\u001b[2K     \u001b[90m━━━━━━━━━━━━━━━━━━━━━━━━━━━━━━━━━━━━━━━━\u001b[0m \u001b[32m1.6/1.6 MB\u001b[0m \u001b[31m25.8 MB/s\u001b[0m eta \u001b[36m0:00:00\u001b[0m\n",
            "\u001b[2K     \u001b[90m━━━━━━━━━━━━━━━━━━━━━━━━━━━━━━━━━━━━━━━━\u001b[0m \u001b[32m62.8/62.8 KB\u001b[0m \u001b[31m3.0 MB/s\u001b[0m eta \u001b[36m0:00:00\u001b[0m\n",
            "\u001b[2K     \u001b[90m━━━━━━━━━━━━━━━━━━━━━━━━━━━━━━━━━━━━━━━━\u001b[0m \u001b[32m73.5/73.5 KB\u001b[0m \u001b[31m3.2 MB/s\u001b[0m eta \u001b[36m0:00:00\u001b[0m\n",
            "\u001b[2K     \u001b[90m━━━━━━━━━━━━━━━━━━━━━━━━━━━━━━━━━━━━━━━━\u001b[0m \u001b[32m2.1/2.1 MB\u001b[0m \u001b[31m23.4 MB/s\u001b[0m eta \u001b[36m0:00:00\u001b[0m\n",
            "\u001b[?25h"
          ]
        }
      ],
      "source": [
        "!pip install -q openai tiktoken"
      ]
    },
    {
      "cell_type": "code",
      "execution_count": 2,
      "metadata": {
        "colab": {
          "base_uri": "https://localhost:8080/"
        },
        "id": "Jx6zmb1GP9eH",
        "outputId": "b4cfa3ec-ee03-4fc9-d8cb-3987bbeb29de"
      },
      "outputs": [
        {
          "name": "stdout",
          "output_type": "stream",
          "text": [
            "Enter the OpenAI API Key: ··········\n"
          ]
        }
      ],
      "source": [
        "import openai\n",
        "import os\n",
        "import tiktoken\n",
        "import getpass\n",
        "\n",
        "api_key = getpass.getpass(\"Enter the OpenAI API Key: \")\n",
        "assert api_key.startswith(\"sk-\"), 'OpenAI API Keys begin with \"sk-\".'\n",
        "openai.api_key = api_key"
      ]
    },
    {
      "cell_type": "code",
      "execution_count": 4,
      "metadata": {
        "id": "vMaQJ9lwQiMN"
      },
      "outputs": [],
      "source": [
        "enc = tiktoken.encoding_for_model(\"gpt-3.5-turbo\")\n",
        "\n",
        "def create_logit_biases(emotions, bias_weight):\n",
        "    \"\"\"Creates a dict of tokens for ChatGPT to use mostly exclusively.\"\"\"\n",
        "    bias_dict = {}\n",
        "    for emotion in emotions:\n",
        "        token_ids = enc.encode(emotion)\n",
        "        for token_id in token_ids:\n",
        "            bias_dict[token_id] = bias_weight\n",
        "    return bias_dict\n",
        "\n",
        "def chatgpt_sentiment(prompt, emotions=None):\n",
        "    if not emotions:\n",
        "        emotions = globals().get(\"emotions\")\n",
        "    emotion_list_str = [f\"- {x}\\n\" for x in emotions]\n",
        "    eos_str = \".\"\n",
        "    system = f\"You are an emotionally intelligent assistant. Classify the sentiment of the user's text with ONLY ONE OF THE FOLLOWING EMOTIONS:\\n{''.join(emotion_list_str)}\\n\\nAfter classifying a text, respond with \\\"{eos_str}\\\".\"\n",
        "    r = openai.ChatCompletion.create(\n",
        "        model=\"gpt-3.5-turbo\",\n",
        "        messages=[\n",
        "            {\"role\": \"system\", \"content\": system},\n",
        "            {\"role\": \"user\", \"content\": prompt},\n",
        "        ],\n",
        "        stop=eos_str,\n",
        "        max_tokens=20,  # safeguard from going infinite\n",
        "        temperature=0.0,  # deterministic, will use largest logit\n",
        "        logit_bias=create_logit_biases(\n",
        "            emotions + [eos_str], 15  # may want to tweak bias weight\n",
        "        ),\n",
        "    )\n",
        "\n",
        "    result = r[\"choices\"][0][\"message\"][\"content\"]\n",
        "    if result == \"\":  # if ChatGPT decides to not return an emotion\n",
        "        result = \"N/A\"\n",
        "    return result"
      ]
    },
    {
      "cell_type": "markdown",
      "metadata": {
        "id": "bPsrwd_ERo1V"
      },
      "source": [
        "## Generate The Sentiment\n",
        "\n",
        "The `emotions` list indicates the range of emotions ChatGPT is able to choose from for classification. Change the emotions if you want, and run the cell when done.\n",
        "\n",
        "In the case a text is _extremely_ neutral, an `N/A` will be returned instead of the emotion.\n",
        "\n",
        "_Protip_: Due to how tokenization works, it's better to use consistent modifiers like `very` and also not use longer/less common emotions, e.g. `very happy` is better than `ecstatic`."
      ]
    },
    {
      "cell_type": "code",
      "execution_count": 5,
      "metadata": {
        "id": "mYBOBi6XP9eJ"
      },
      "outputs": [],
      "source": [
        "emotions = [\n",
        "    \"happy\",\n",
        "    \"sad\",\n",
        "    \"angry\",\n",
        "    \"tired\",\n",
        "    \"very happy\",\n",
        "    \"very sad\",\n",
        "    \"very angry\",\n",
        "    \"very tired\",\n",
        "]"
      ]
    },
    {
      "cell_type": "markdown",
      "metadata": {
        "id": "3-3QElQLWB-7"
      },
      "source": [
        "Input the text you want to classify in the cell below, then run the cell!"
      ]
    },
    {
      "cell_type": "code",
      "execution_count": 6,
      "metadata": {
        "cellView": "form",
        "colab": {
          "base_uri": "https://localhost:8080/",
          "height": 56
        },
        "id": "aAa5mKsxSmBm",
        "outputId": "b4fbf0a5-4224-4b9c-90a1-fae9c445dd4c"
      },
      "outputs": [
        {
          "data": {
            "application/vnd.google.colaboratory.intrinsic+json": {
              "type": "string"
            },
            "text/plain": [
              "'happy'"
            ]
          },
          "execution_count": 6,
          "metadata": {},
          "output_type": "execute_result"
        }
      ],
      "source": [
        "text = 'Artificial intelligence is fun! :D' #@param {type:\"string\"}\n",
        "chatgpt_sentiment(text)"
      ]
    },
    {
      "cell_type": "markdown",
      "metadata": {
        "id": "_87VfZMvRaG2"
      },
      "source": [
        "## Test Cases\n",
        "\n",
        "These test cases were run with the initial set of 8 emotions, but feel free to rerun them on your own set of emotions and see what happens! "
      ]
    },
    {
      "cell_type": "code",
      "execution_count": 7,
      "metadata": {
        "colab": {
          "base_uri": "https://localhost:8080/",
          "height": 56
        },
        "id": "WYdc8HjpP9eK",
        "outputId": "243fe929-0af4-4b9b-b2bd-47d5b84b00cf"
      },
      "outputs": [
        {
          "data": {
            "application/vnd.google.colaboratory.intrinsic+json": {
              "type": "string"
            },
            "text/plain": [
              "'happy'"
            ]
          },
          "execution_count": 7,
          "metadata": {},
          "output_type": "execute_result"
        }
      ],
      "source": [
        "chatgpt_sentiment(\"I just bought a new iPhone.\")"
      ]
    },
    {
      "cell_type": "code",
      "execution_count": 8,
      "metadata": {
        "colab": {
          "base_uri": "https://localhost:8080/",
          "height": 56
        },
        "id": "K1wJoRRVP9eK",
        "outputId": "1c2195f3-21e0-48d7-d14e-e5038e330698"
      },
      "outputs": [
        {
          "data": {
            "application/vnd.google.colaboratory.intrinsic+json": {
              "type": "string"
            },
            "text/plain": [
              "'very happy'"
            ]
          },
          "execution_count": 8,
          "metadata": {},
          "output_type": "execute_result"
        }
      ],
      "source": [
        "chatgpt_sentiment(\"I want to marry you!\")"
      ]
    },
    {
      "cell_type": "code",
      "execution_count": 9,
      "metadata": {
        "colab": {
          "base_uri": "https://localhost:8080/",
          "height": 56
        },
        "id": "i53UQB8QP9eL",
        "outputId": "8b2b9fad-3461-41a9-b6a8-8d3a3d1c0f90"
      },
      "outputs": [
        {
          "data": {
            "application/vnd.google.colaboratory.intrinsic+json": {
              "type": "string"
            },
            "text/plain": [
              "'tired'"
            ]
          },
          "execution_count": 9,
          "metadata": {},
          "output_type": "execute_result"
        }
      ],
      "source": [
        "chatgpt_sentiment(\"Feeling weird today.\")"
      ]
    },
    {
      "cell_type": "code",
      "execution_count": 10,
      "metadata": {
        "colab": {
          "base_uri": "https://localhost:8080/",
          "height": 56
        },
        "id": "esITZWeoP9eL",
        "outputId": "4fc270ee-0914-436e-8575-482fa69803f3"
      },
      "outputs": [
        {
          "data": {
            "application/vnd.google.colaboratory.intrinsic+json": {
              "type": "string"
            },
            "text/plain": [
              "'very tired'"
            ]
          },
          "execution_count": 10,
          "metadata": {},
          "output_type": "execute_result"
        }
      ],
      "source": [
        "chatgpt_sentiment(\"I have literally no energy.\")"
      ]
    },
    {
      "cell_type": "code",
      "execution_count": 11,
      "metadata": {
        "colab": {
          "base_uri": "https://localhost:8080/",
          "height": 56
        },
        "id": "rfEBS3n6P9eL",
        "outputId": "b59e2710-fd3d-4f21-c27f-5d43a1b30b8f"
      },
      "outputs": [
        {
          "data": {
            "application/vnd.google.colaboratory.intrinsic+json": {
              "type": "string"
            },
            "text/plain": [
              "'sad'"
            ]
          },
          "execution_count": 11,
          "metadata": {},
          "output_type": "execute_result"
        }
      ],
      "source": [
        "chatgpt_sentiment(\"I can't believe I got fired!\")"
      ]
    },
    {
      "cell_type": "code",
      "execution_count": 12,
      "metadata": {
        "colab": {
          "base_uri": "https://localhost:8080/",
          "height": 56
        },
        "id": "yvUb5q04P9eM",
        "outputId": "7019bc60-c22a-4e7b-c50f-ae1a9b993217"
      },
      "outputs": [
        {
          "data": {
            "application/vnd.google.colaboratory.intrinsic+json": {
              "type": "string"
            },
            "text/plain": [
              "'very sad'"
            ]
          },
          "execution_count": 12,
          "metadata": {},
          "output_type": "execute_result"
        }
      ],
      "source": [
        "chatgpt_sentiment(\"My mother just died from cancer.\")"
      ]
    },
    {
      "cell_type": "code",
      "execution_count": 13,
      "metadata": {
        "colab": {
          "base_uri": "https://localhost:8080/",
          "height": 56
        },
        "id": "WwWcVyVQP9eM",
        "outputId": "ddb1edc0-a644-40bb-e9be-889c626e5f75"
      },
      "outputs": [
        {
          "data": {
            "application/vnd.google.colaboratory.intrinsic+json": {
              "type": "string"
            },
            "text/plain": [
              "'angry'"
            ]
          },
          "execution_count": 13,
          "metadata": {},
          "output_type": "execute_result"
        }
      ],
      "source": [
        "chatgpt_sentiment(\"I am mad\")"
      ]
    },
    {
      "cell_type": "code",
      "execution_count": 14,
      "metadata": {
        "colab": {
          "base_uri": "https://localhost:8080/",
          "height": 56
        },
        "id": "LwmOjxEIP9eM",
        "outputId": "1b133eaf-8166-42de-9845-0a28a846cf31"
      },
      "outputs": [
        {
          "data": {
            "application/vnd.google.colaboratory.intrinsic+json": {
              "type": "string"
            },
            "text/plain": [
              "'very angry'"
            ]
          },
          "execution_count": 14,
          "metadata": {},
          "output_type": "execute_result"
        }
      ],
      "source": [
        "chatgpt_sentiment(\"GOD DAMN IT\")"
      ]
    },
    {
      "cell_type": "code",
      "execution_count": 15,
      "metadata": {
        "colab": {
          "base_uri": "https://localhost:8080/",
          "height": 56
        },
        "id": "tth7o2YIWk93",
        "outputId": "31d0479f-8958-458f-973b-2ac1c6959e15"
      },
      "outputs": [
        {
          "data": {
            "application/vnd.google.colaboratory.intrinsic+json": {
              "type": "string"
            },
            "text/plain": [
              "'N/A'"
            ]
          },
          "execution_count": 15,
          "metadata": {},
          "output_type": "execute_result"
        }
      ],
      "source": [
        "chatgpt_sentiment(\"idk lol\")"
      ]
    },
    {
      "cell_type": "code",
      "execution_count": 16,
      "metadata": {
        "colab": {
          "base_uri": "https://localhost:8080/",
          "height": 56
        },
        "id": "o6ySOtuOTfnX",
        "outputId": "584590c7-9f4f-4e57-9478-9d940cb148a1"
      },
      "outputs": [
        {
          "data": {
            "application/vnd.google.colaboratory.intrinsic+json": {
              "type": "string"
            },
            "text/plain": [
              "'very happy'"
            ]
          },
          "execution_count": 16,
          "metadata": {},
          "output_type": "execute_result"
        }
      ],
      "source": [
        "chatgpt_sentiment(\"😀\")"
      ]
    },
    {
      "cell_type": "code",
      "execution_count": 17,
      "metadata": {
        "colab": {
          "base_uri": "https://localhost:8080/",
          "height": 56
        },
        "id": "Nv33YlKgTti3",
        "outputId": "ce61c37b-a3a6-4967-e536-71afdb6d13f2"
      },
      "outputs": [
        {
          "data": {
            "application/vnd.google.colaboratory.intrinsic+json": {
              "type": "string"
            },
            "text/plain": [
              "'sad'"
            ]
          },
          "execution_count": 17,
          "metadata": {},
          "output_type": "execute_result"
        }
      ],
      "source": [
        "chatgpt_sentiment(\"😞\")"
      ]
    },
    {
      "cell_type": "code",
      "execution_count": 18,
      "metadata": {
        "colab": {
          "base_uri": "https://localhost:8080/",
          "height": 56
        },
        "id": "XRFdNweETyBX",
        "outputId": "6838e118-fcbc-4aa8-8700-c2f2324b5aca"
      },
      "outputs": [
        {
          "data": {
            "application/vnd.google.colaboratory.intrinsic+json": {
              "type": "string"
            },
            "text/plain": [
              "'angry'"
            ]
          },
          "execution_count": 18,
          "metadata": {},
          "output_type": "execute_result"
        }
      ],
      "source": [
        "chatgpt_sentiment(\"😡\")"
      ]
    },
    {
      "cell_type": "code",
      "execution_count": 19,
      "metadata": {
        "colab": {
          "base_uri": "https://localhost:8080/",
          "height": 56
        },
        "id": "goGarnoPT4un",
        "outputId": "deb4e89b-fab5-49e5-9d05-14ebfb9014bd"
      },
      "outputs": [
        {
          "data": {
            "application/vnd.google.colaboratory.intrinsic+json": {
              "type": "string"
            },
            "text/plain": [
              "'tired'"
            ]
          },
          "execution_count": 19,
          "metadata": {},
          "output_type": "execute_result"
        }
      ],
      "source": [
        "chatgpt_sentiment(\"😪\")"
      ]
    },
    {
      "cell_type": "code",
      "execution_count": 20,
      "metadata": {
        "colab": {
          "base_uri": "https://localhost:8080/",
          "height": 56
        },
        "id": "c4LzTtihVLpi",
        "outputId": "c51ed48f-77d5-4442-f684-c4eefe70cf04"
      },
      "outputs": [
        {
          "data": {
            "application/vnd.google.colaboratory.intrinsic+json": {
              "type": "string"
            },
            "text/plain": [
              "'N/A'"
            ]
          },
          "execution_count": 20,
          "metadata": {},
          "output_type": "execute_result"
        }
      ],
      "source": [
        "chatgpt_sentiment(\"🧜‍♂️\")"
      ]
    },
    {
      "cell_type": "markdown",
      "metadata": {
        "id": "lmXJhM3eRkmM"
      },
      "source": [
        "## MIT License\n",
        "\n",
        "Copyright (c) 2023 Max Woolf\n",
        "\n",
        "Permission is hereby granted, free of charge, to any person obtaining a copy\n",
        "of this software and associated documentation files (the \"Software\"), to deal\n",
        "in the Software without restriction, including without limitation the rights\n",
        "to use, copy, modify, merge, publish, distribute, sublicense, and/or sell\n",
        "copies of the Software, and to permit persons to whom the Software is\n",
        "furnished to do so, subject to the following conditions:\n",
        "\n",
        "The above copyright notice and this permission notice shall be included in all\n",
        "copies or substantial portions of the Software.\n",
        "\n",
        "THE SOFTWARE IS PROVIDED \"AS IS\", WITHOUT WARRANTY OF ANY KIND, EXPRESS OR\n",
        "IMPLIED, INCLUDING BUT NOT LIMITED TO THE WARRANTIES OF MERCHANTABILITY,\n",
        "FITNESS FOR A PARTICULAR PURPOSE AND NONINFRINGEMENT. IN NO EVENT SHALL THE\n",
        "AUTHORS OR COPYRIGHT HOLDERS BE LIABLE FOR ANY CLAIM, DAMAGES OR OTHER\n",
        "LIABILITY, WHETHER IN AN ACTION OF CONTRACT, TORT OR OTHERWISE, ARISING FROM,\n",
        "OUT OF OR IN CONNECTION WITH THE SOFTWARE OR THE USE OR OTHER DEALINGS IN THE\n",
        "SOFTWARE.\n"
      ]
    }
  ],
  "metadata": {
    "colab": {
      "provenance": []
    },
    "kernelspec": {
      "display_name": "Python 3",
      "language": "python",
      "name": "python3"
    },
    "language_info": {
      "codemirror_mode": {
        "name": "ipython",
        "version": 3
      },
      "file_extension": ".py",
      "mimetype": "text/x-python",
      "name": "python",
      "nbconvert_exporter": "python",
      "pygments_lexer": "ipython3",
      "version": "3.9.12"
    },
    "orig_nbformat": 4
  },
  "nbformat": 4,
  "nbformat_minor": 0
}
